{
 "cells": [
  {
   "cell_type": "code",
   "execution_count": 1,
   "metadata": {
    "collapsed": true,
    "deletable": true,
    "editable": true
   },
   "outputs": [],
   "source": [
    "import pandas as pd\n",
    "import numpy as np\n",
    "import os\n",
    "import re\n",
    "pd.set_option('precision',2)\n",
    "\n",
    "def day(l):\n",
    "    a = str(l)\n",
    "    return a[:10]\n",
    "\n",
    "#Daily averages must first be calculated using Day-of-the-Week-Average.ipynb\n",
    "#Copy averages into an appropriately formatted .xlsx file (see technical doc)\n",
    "def daycountave(filepath1):\n",
    "    df = pd.read_excel(filepath1)\n",
    "    df2 = pd.read_excel('INSERT PATH FOR AVERAGE SPREADSHEET HERE')\n",
    "    df = df[df['LANGUAGE']=='en'].copy()\n",
    "    df['bow'] = df['TEXT'].str.lower().str.replace(r'(https?://.+|[^\\w#@]+|\\d+)+',' ').str.split()\n",
    "    df = df[df['bow'].isnull()==False].copy()\n",
    "    df = df[(df['SOURCE'].str.contains('bot', case=False)==False) | (df['SOURCE'].str.contains('tweetbot', case=False)==True)]\n",
    "    df['Day'] = df['CREATED_AT_LOCAL'].apply(day)\n",
    "    days = df.pivot_table(index='Day',values='TEXT',aggfunc=\"count\")\n",
    "    city = df['CITY'][0]\n",
    "    def addave(l):\n",
    "        return df2.loc[l][city]\n",
    "    days.columns = ['Angry Tweets']\n",
    "    days['Days'] = days.index\n",
    "    days['Days'] = pd.to_datetime(days['Days'])\n",
    "    days['Weekday'] = days['Days'].dt.weekday_name\n",
    "    days['Weekday Ave'] = days['Weekday'].apply(addave)\n",
    "    days['Difference'] = days['Angry Tweets']-days['Weekday Ave']\n",
    "    days['% Difference'] = (days['Difference']/days['Weekday Ave'])*100\n",
    "    start = df['CREATED_AT_LOCAL'].iloc[-1]\n",
    "    end = df['CREATED_AT_LOCAL'].iloc[0]\n",
    "    name = city + ' ' + str(start)[:10] + ' to ' + str(end)[:10] + ' vs ave' '.csv'\n",
    "    days.to_csv(os.path.join(os.path.dirname(filepath1),name), columns = ['Weekday','Angry Tweets','Difference','% Difference'])\n",
    "    \n",
    "def processfolder(directory, function):\n",
    "    for filename in os.listdir(directory):\n",
    "        if filename.endswith(\".xlsx\"):\n",
    "            function(os.path.join(directory, filename))\n",
    "            continue\n",
    "        else:\n",
    "            continue"
   ]
  }
 ],
 "metadata": {
  "kernelspec": {
   "display_name": "Python 2",
   "language": "python",
   "name": "python2"
  },
  "language_info": {
   "codemirror_mode": {
    "name": "ipython",
    "version": 2
   },
   "file_extension": ".py",
   "mimetype": "text/x-python",
   "name": "python",
   "nbconvert_exporter": "python",
   "pygments_lexer": "ipython2",
   "version": "2.7.11"
  }
 },
 "nbformat": 4,
 "nbformat_minor": 1
}
