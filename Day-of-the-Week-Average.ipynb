{
 "cells": [
  {
   "cell_type": "code",
   "execution_count": 5,
   "metadata": {
    "collapsed": true,
    "deletable": true,
    "editable": true
   },
   "outputs": [],
   "source": [
    "import pandas as pd\n",
    "import numpy as np\n",
    "import os\n",
    "import re\n",
    "\n",
    "def day(l):\n",
    "    a = str(l)\n",
    "    return a[:10]\n",
    "\n",
    "#If all data for a city is in one file\n",
    "def daysave(filepath):\n",
    "    df = pd.read_excel(filepath)\n",
    "    df = df[df['LANGUAGE']=='en'].copy()\n",
    "    df['bow'] = df['TEXT'].str.lower().str.replace(r'(https?://.+|[^\\w#@]+|\\d+)+',' ').str.split()\n",
    "    df = df[df['bow'].isnull()==False].copy()\n",
    "    df['Day'] = df['CREATED_AT_LOCAL'].apply(day)\n",
    "    days = df.pivot_table(index='Day',values='TEXT',aggfunc=\"count\")\n",
    "    days.columns = ['Angry Tweets']\n",
    "    days['Days'] = days.index\n",
    "    days['Days'] = pd.to_datetime(days['Days'])\n",
    "    days['Weekday'] = days['Days'].dt.weekday_name\n",
    "    dayave = days.pivot_table(index='Weekday',values='Angry Tweets',aggfunc=\"mean\")\n",
    "    city = df['CITY'][0]\n",
    "    start = df['CREATED_AT_LOCAL'].iloc[-1]\n",
    "    end = df['CREATED_AT_LOCAL'].iloc[0]\n",
    "    name = city + ' ' + str(start)[:10] + ' to ' + str(end)[:10] + ' day average' + '.csv'\n",
    "    dayave.to_csv(os.path.join(os.path.dirname(filepath),name))\n",
    "\n",
    "#If data for a city is split into two files\n",
    "def daysave2(filepath1, filepath2):\n",
    "    df1 = pd.read_excel(filepath1)\n",
    "    df2 = pd.read_excel(filepath2)\n",
    "    df = pd.concat([df1, df2], ignore_index=True)\n",
    "    df = df[df['LANGUAGE']=='en'].copy()\n",
    "    df['bow'] = df['TEXT'].str.lower().str.replace(r'(https?://.+|[^\\w#@]+|\\d+)+',' ').str.split()\n",
    "    df = df[df['bow'].isnull()==False].copy()\n",
    "    df['Day'] = df['CREATED_AT_LOCAL'].apply(day)\n",
    "    days = df.pivot_table(index='Day',values='TEXT',aggfunc=\"count\")\n",
    "    days.columns = ['Angry Tweets']\n",
    "    days['Days'] = days.index\n",
    "    days['Days'] = pd.to_datetime(days['Days'])\n",
    "    days['Weekday'] = days['Days'].dt.weekday_name\n",
    "    dayave = days.pivot_table(index='Weekday',values='Angry Tweets',aggfunc=\"mean\")\n",
    "    city = df['CITY'][0]\n",
    "    start = df1['CREATED_AT_LOCAL'].iloc[-1]\n",
    "    end = df2['CREATED_AT_LOCAL'].iloc[0]\n",
    "    name = city + ' ' + str(start)[:10] + ' to ' + str(end)[:10] + ' day average' + '.csv'\n",
    "    dayave.to_csv(os.path.join(os.path.dirname(filepath1),name)) \n",
    "    \n",
    "def processfolder(directory, function):\n",
    "    for filename in os.listdir(directory):\n",
    "        if filename.endswith(\".xlsx\"):\n",
    "            function(os.path.join(directory, filename))\n",
    "            continue\n",
    "        else:\n",
    "            continue"
   ]
  }
 ],
 "metadata": {
  "kernelspec": {
   "display_name": "Python 2",
   "language": "python",
   "name": "python2"
  },
  "language_info": {
   "codemirror_mode": {
    "name": "ipython",
    "version": 2
   },
   "file_extension": ".py",
   "mimetype": "text/x-python",
   "name": "python",
   "nbconvert_exporter": "python",
   "pygments_lexer": "ipython2",
   "version": "2.7.11"
  }
 },
 "nbformat": 4,
 "nbformat_minor": 2
}
