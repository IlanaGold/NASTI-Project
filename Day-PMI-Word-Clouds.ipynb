{
 "cells": [
  {
   "cell_type": "code",
   "execution_count": 1,
   "metadata": {
    "collapsed": true,
    "deletable": true,
    "editable": true
   },
   "outputs": [],
   "source": [
    "import pandas as pd\n",
    "import numpy as np\n",
    "from collections import Counter\n",
    "import os\n",
    "import re\n",
    "from cytoolz import concat\n",
    "from wordcloud import WordCloud\n",
    "import matplotlib.pyplot as plt\n",
    "\n",
    "def day(l):\n",
    "    a = str(l)\n",
    "    return a[:10]\n",
    "\n",
    "def wordfreq(directory):\n",
    "    C = Counter()\n",
    "    for filename in os.listdir(directory):\n",
    "        if filename.endswith('.xlsx'):\n",
    "            df = pd.read_excel(os.path.join(directory, filename))\n",
    "            df = df[df['LANGUAGE']=='en'].copy()\n",
    "            df['bow'] = df['TEXT'].str.lower().str.replace(r'(https?://.+|[^\\w#@]+|\\d+)+',' ').str.split()\n",
    "            df = df[df['bow'].isnull()==False].copy()\n",
    "            df = df[(df['SOURCE'].str.contains('bot', case=False)==False) | (df['SOURCE'].str.contains('tweetbot', case=False)==True)]\n",
    "            df = df[df['TEXT'].str.contains('HDMA')==False]\n",
    "            df = df[df['TEXT'].str.contains('FALSE')==False]\n",
    "            df = df[df['TEXT'].str.contains('TRUE')==False].copy()\n",
    "            C += Counter(list(concat(df['bow'])))\n",
    "        else:\n",
    "            continue\n",
    "    freq = pd.DataFrame.from_dict(C, orient='index')\n",
    "    freq.columns = ['Total']\n",
    "    return freq"
   ]
  },
  {
   "cell_type": "markdown",
   "metadata": {
    "deletable": true,
    "editable": true
   },
   "source": [
    "You must EITHER run the next cell on a folder containing all anger data OR run the cell after that to import previously calculated word frequencies.\n",
    "The CSV file name (for importing or exporting) will need to be changed appropriately, but this dataframe must be called freq."
   ]
  },
  {
   "cell_type": "code",
   "execution_count": 2,
   "metadata": {
    "collapsed": false,
    "deletable": true,
    "editable": true
   },
   "outputs": [],
   "source": [
    "#If overall frequency counts have not yet been generated\n",
    "#If frequency counts were previously generated, skip to next cell\n",
    "freq = wordfreq('INSERT PATH TO DATA DIRECTORY HERE')\n",
    "freq.sort_values(by='Total',ascending=False).to_csv('INSERT FILENAME HERE.csv')"
   ]
  },
  {
   "cell_type": "code",
   "execution_count": 3,
   "metadata": {
    "collapsed": true,
    "deletable": true,
    "editable": true
   },
   "outputs": [],
   "source": [
    "#Skip if frequency counts were calculated in previous step\n",
    "freq = pd.read_csv('INSERT PATH TO PREVIOUSLY GENERATED FREQUENCY COUNTS HERE.csv',index_col=0)"
   ]
  },
  {
   "cell_type": "code",
   "execution_count": null,
   "metadata": {
    "collapsed": true,
    "deletable": true,
    "editable": true
   },
   "outputs": [],
   "source": []
  },
  {
   "cell_type": "code",
   "execution_count": 4,
   "metadata": {
    "collapsed": true,
    "deletable": true,
    "editable": true
   },
   "outputs": [],
   "source": [
    "#To calculate PMI for one date in one city\n",
    "def PMI(filepath, date):\n",
    "    df = freq\n",
    "    df2 = pd.read_excel(filepath)\n",
    "    df2 = df2[df2['LANGUAGE']=='en'].copy()\n",
    "    df2['bow'] = df2['TEXT'].str.lower().str.replace(r'(https?://.+|[^\\w#@]+|\\d+)+',' ').str.split()\n",
    "    df2 = df2[df2['bow'].isnull()==False].copy()\n",
    "    df2 = df2[(df2['SOURCE'].str.contains('bot', case=False)==False) | (df2['SOURCE'].str.contains('tweetbot', case=False)==True)]\n",
    "    df2 = df2[df2['TEXT'].str.contains('FALSE')==False].copy()\n",
    "    df2 = df2[df2['TEXT'].str.contains('TRUE')==False].copy()\n",
    "    df2['Day'] = df2['CREATED_AT_LOCAL'].apply(day)\n",
    "    aday = df2[df2['Day']==date]\n",
    "    F = pd.value_counts(list(concat(aday['bow'])))\n",
    "    df[date] = F\n",
    "    df['PMI'] = np.log2((df[date]*np.sum(df['Total'])) / (df['Total']*np.sum(df[date])))\n",
    "    one = df[df[date] > 10].sort_values(by=['PMI'],ascending=False)\n",
    "    city = df2['CITY'][0]\n",
    "    one.to_csv(date + ' ' + city + ' PMI.csv')\n",
    "    del df[date]\n",
    "    del df['PMI']\n",
    "\n",
    "#To calculate PMI for one date for multiple cities\n",
    "def PMIdir(directory, date):\n",
    "    for filename in os.listdir(directory):\n",
    "        if filename.endswith('.xlsx'):\n",
    "            PMI(os.path.join(directory, filename), date)\n",
    "            \n",
    "#To calculate PMI for multiple dates and multiple cities\n",
    "def PMIdir_dates(directory, datelist):\n",
    "    for filename in os.listdir(directory):\n",
    "        if filename.endswith('.xlsx'):\n",
    "            for date in datelist:\n",
    "                PMI(os.path.join(directory, filename), date)"
   ]
  },
  {
   "cell_type": "code",
   "execution_count": null,
   "metadata": {
    "collapsed": true,
    "deletable": true,
    "editable": true
   },
   "outputs": [],
   "source": []
  },
  {
   "cell_type": "code",
   "execution_count": null,
   "metadata": {
    "collapsed": true,
    "deletable": true,
    "editable": true
   },
   "outputs": [],
   "source": []
  },
  {
   "cell_type": "markdown",
   "metadata": {
    "collapsed": true,
    "deletable": true,
    "editable": true
   },
   "source": [
    "Generate Word Clouds From PMI Files Produced By The Functions Above\n",
    "\n",
    "Word clouds will automatically be saved to files, two per PMI list."
   ]
  },
  {
   "cell_type": "code",
   "execution_count": null,
   "metadata": {
    "collapsed": true,
    "deletable": true,
    "editable": true
   },
   "outputs": [],
   "source": [
    "#For words with PMI > 1, by count. Larger size indicates more uses of the word.\n",
    "def countpmiwc(filepath):\n",
    "    df = pd.read_csv(filepath, index_col=0)\n",
    "    df.columns = ['Total','Count','PMI']\n",
    "    name = os.path.basename(filepath).split('.')[0]\n",
    "    df2 = df[df['PMI']>=1].copy()\n",
    "    df2['Count'] = df2['Count'].astype(float)\n",
    "    v = dict(df2['Count'])\n",
    "    i = WordCloud(width=1000,height=1000).generate_from_frequencies(v).to_file(name + ' Word Cloud by Count.jpg')\n",
    "\n",
    "#For all words with PMI > 0. Larger size indicates higher PMI.\n",
    "def pmiwc(filepath):\n",
    "    df = pd.read_csv(filepath, index_col=0)\n",
    "    df.columns = ['Total','Count','PMI']\n",
    "    name = os.path.basename(filepath).split('.')[0]\n",
    "    df3 = df[df['PMI']>0].copy()\n",
    "    w = dict(df3['PMI'])\n",
    "    j = WordCloud(width=1000,height=1000).generate_from_frequencies(w).to_file(name + ' Word Cloud.jpg')\n",
    "    \n",
    "def wordclouds(filepath):\n",
    "    countpmiwc(filepath)\n",
    "    pmiwc(filepath)\n",
    "    \n",
    "def wcfolder(directory):\n",
    "    for filename in os.listdir(directory):\n",
    "        if filename.endswith(\".csv\"):\n",
    "            wordclouds(os.path.join(directory, filename))\n",
    "            continue\n",
    "        else:\n",
    "            continue"
   ]
  },
  {
   "cell_type": "code",
   "execution_count": null,
   "metadata": {
    "collapsed": true,
    "deletable": true,
    "editable": true
   },
   "outputs": [],
   "source": []
  }
 ],
 "metadata": {
  "kernelspec": {
   "display_name": "Python 2",
   "language": "python",
   "name": "python2"
  },
  "language_info": {
   "codemirror_mode": {
    "name": "ipython",
    "version": 2
   },
   "file_extension": ".py",
   "mimetype": "text/x-python",
   "name": "python",
   "nbconvert_exporter": "python",
   "pygments_lexer": "ipython2",
   "version": "2.7.11"
  }
 },
 "nbformat": 4,
 "nbformat_minor": 1
}
